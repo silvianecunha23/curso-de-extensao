{
 "cells": [
  {
   "cell_type": "code",
   "execution_count": 6,
   "metadata": {},
   "outputs": [],
   "source": [
    "import numpy as np"
   ]
  },
  {
   "cell_type": "code",
   "execution_count": 7,
   "metadata": {},
   "outputs": [],
   "source": [
    "p = 0.6 # probabilidade de sair cara\n",
    "nsim = 10 # número de simulações\n",
    "ncaras = 0 # número de caras obtidas\n",
    "saida = [] # armazena as saídas (cara=1; coroa=0)"
   ]
  },
  {
   "cell_type": "code",
   "execution_count": 8,
   "metadata": {},
   "outputs": [
    {
     "name": "stdout",
     "output_type": "stream",
     "text": [
      "Saídas:  [1, 1, 1, 1, 0, 1, 0, 1, 1, 1]\n",
      "Frequência de caras:  0.8\n"
     ]
    }
   ],
   "source": [
    "for i in range (0, nsim):\n",
    "    if(np.random.uniform() < p): # se for menor que p, é cara\n",
    "        ncaras = ncaras + 1; # incrementa o contador de caras\n",
    "        saida.append(1)\n",
    "    else:\n",
    "        saida.append(0)\n",
    "\n",
    "print(\"Saídas: \", saida)\n",
    "print(\"Frequência de caras: \", ncaras/nsim)"
   ]
  }
 ],
 "metadata": {
  "kernelspec": {
   "display_name": "base",
   "language": "python",
   "name": "python3"
  },
  "language_info": {
   "codemirror_mode": {
    "name": "ipython",
    "version": 3
   },
   "file_extension": ".py",
   "mimetype": "text/x-python",
   "name": "python",
   "nbconvert_exporter": "python",
   "pygments_lexer": "ipython3",
   "version": "3.9.13"
  },
  "orig_nbformat": 4,
  "vscode": {
   "interpreter": {
    "hash": "836a17164be2d590fd74263af58090dad9ab01a479d389a04c38658626e07a4a"
   }
  }
 },
 "nbformat": 4,
 "nbformat_minor": 2
}
